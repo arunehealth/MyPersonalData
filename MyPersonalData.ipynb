{
 "cells": [
  {
   "cell_type": "markdown",
   "metadata": {},
   "source": [
    "# \"Logistic regression\" is a ML classification problem algorithm.\n",
    "It is used to predict the probability of a categorical dependent variable.\n",
    "\n",
    "In htis model the dependent variable is always a binary variable that contains data coded as 1 (YES) and 0 (NO).\n",
    "\n",
    "In statistical terms the model predicts P(Y=1) as a function of X\n",
    "\n",
    "Important points:\n",
    "\n",
    "    Dependent variable always binary\n",
    "  \n",
    "    Only meaningful variable should be included\n",
    "    \n",
    "    Independent variable should be independent of one another (i.e should not ne multi-collinear) \n",
    "    \n",
    "    Large sample sizes\n",
    "    \n",
    "    Independent variables linearly co-related to the log odds"
   ]
  },
  {
   "cell_type": "markdown",
   "metadata": {},
   "source": [
    "# Packages needed:\n",
    "\n",
    "Python packages needed:\n",
    "\n",
    "    import pandas as pd\n",
    "    \n",
    "    import numpy as np\n",
    "    \n",
    "Viz packages needed:\n",
    "\n",
    "    import matplotlib.pyplot as plt\n",
    "    \n",
    "    import seaborn as sns\n",
    "    \n",
    "sklearn packages needed:\n",
    "\n",
    "    from sklearn import preprocessing\n",
    "    \n",
    "    from sklearn.model_selection import train_test_split\n",
    "    \n",
    "    from sklearn.linear_model import LogisticRegression \n",
    "    \n"
   ]
  },
  {
   "cell_type": "code",
   "execution_count": 163,
   "metadata": {},
   "outputs": [
    {
     "name": "stdout",
     "output_type": "stream",
     "text": [
      "Collecting imblearn\n",
      "  Downloading https://files.pythonhosted.org/packages/81/a7/4179e6ebfd654bd0eac0b9c06125b8b4c96a9d0a8ff9e9507eb2a26d2d7e/imblearn-0.0-py2.py3-none-any.whl\n",
      "Collecting imbalanced-learn (from imblearn)\n",
      "  Downloading https://files.pythonhosted.org/packages/80/a4/900463a3c0af082aed9c5a43f4ec317a9469710c5ef80496c9abc26ed0ca/imbalanced_learn-0.3.3-py3-none-any.whl (144kB)\n",
      "Requirement already satisfied: scipy in c:\\users\\arunakiry natarajan\\anaconda3\\lib\\site-packages (from imbalanced-learn->imblearn)\n",
      "Requirement already satisfied: numpy in c:\\users\\arunakiry natarajan\\anaconda3\\lib\\site-packages (from imbalanced-learn->imblearn)\n",
      "Requirement already satisfied: scikit-learn in c:\\users\\arunakiry natarajan\\anaconda3\\lib\\site-packages (from imbalanced-learn->imblearn)\n",
      "Installing collected packages: imbalanced-learn, imblearn\n",
      "Successfully installed imbalanced-learn-0.3.3 imblearn-0.0\n"
     ]
    },
    {
     "name": "stderr",
     "output_type": "stream",
     "text": [
      "You are using pip version 9.0.1, however version 18.0 is available.\n",
      "You should consider upgrading via the 'python -m pip install --upgrade pip' command.\n"
     ]
    }
   ],
   "source": [
    "import pandas as pd\n",
    "import numpy as np\n",
    "from datetime import datetime\n",
    "import seaborn as sns\n",
    "import matplotlib.pyplot as plt\n",
    "%matplotlib inline\n",
    "from sklearn.model_selection import train_test_split\n",
    "from sklearn import preprocessing\n",
    "from sklearn.model_selection import train_test_split\n",
    "from sklearn.linear_model import LogisticRegression \n",
    "from sklearn.ensemble import RandomForestClassifier\n",
    "from sklearn.metrics import recall_score\n",
    "!pip install imblearn\n",
    "from imblearn.over_sampling import SMOTE\n",
    "#to define viz specifications \n",
    "plt.rc(\"font\", size = 14)\n",
    "sns.set (style = \"white\")\n",
    "sns.set (style = \"whitegrid\", color_codes = True)"
   ]
  },
  {
   "cell_type": "code",
   "execution_count": 164,
   "metadata": {},
   "outputs": [],
   "source": [
    "#importing the dataframe for processing\n",
    "df = pd.read_excel('MyPersonalData.xlsx')"
   ]
  },
  {
   "cell_type": "code",
   "execution_count": 165,
   "metadata": {},
   "outputs": [
    {
     "data": {
      "text/plain": [
       "Date                         datetime64[ns]\n",
       "WalkingTime                           int64\n",
       "CyclingTime                           int64\n",
       "SleepingTime                        float64\n",
       "Studying                              int64\n",
       "Weight                                int64\n",
       "Moving out for relaxation             int64\n",
       "Time spent with friends               int64\n",
       "Alcohol intake                        int64\n",
       "Craving for food                      int64\n",
       "GuiltyFeel                            int64\n",
       "dtype: object"
      ]
     },
     "execution_count": 165,
     "metadata": {},
     "output_type": "execute_result"
    }
   ],
   "source": [
    "#quick assessment of the dataframe types\n",
    "df.dtypes"
   ]
  },
  {
   "cell_type": "code",
   "execution_count": 56,
   "metadata": {},
   "outputs": [
    {
     "data": {
      "text/plain": [
       "(824, 11)"
      ]
     },
     "execution_count": 56,
     "metadata": {},
     "output_type": "execute_result"
    }
   ],
   "source": [
    "# assessing the number of rows and the number of columns in the datframe\n",
    "df.shape"
   ]
  },
  {
   "cell_type": "code",
   "execution_count": 51,
   "metadata": {},
   "outputs": [
    {
     "data": {
      "text/html": [
       "<div>\n",
       "<style scoped>\n",
       "    .dataframe tbody tr th:only-of-type {\n",
       "        vertical-align: middle;\n",
       "    }\n",
       "\n",
       "    .dataframe tbody tr th {\n",
       "        vertical-align: top;\n",
       "    }\n",
       "\n",
       "    .dataframe thead th {\n",
       "        text-align: right;\n",
       "    }\n",
       "</style>\n",
       "<table border=\"1\" class=\"dataframe\">\n",
       "  <thead>\n",
       "    <tr style=\"text-align: right;\">\n",
       "      <th></th>\n",
       "      <th>Date</th>\n",
       "      <th>WalkingTime</th>\n",
       "      <th>CyclingTime</th>\n",
       "      <th>SleepingTime</th>\n",
       "      <th>Studying</th>\n",
       "      <th>Weight</th>\n",
       "      <th>Moving out for relaxation</th>\n",
       "      <th>Time spent with friends</th>\n",
       "      <th>Alcohol intake</th>\n",
       "      <th>Craving for food</th>\n",
       "      <th>GuiltyFeel</th>\n",
       "    </tr>\n",
       "  </thead>\n",
       "  <tbody>\n",
       "    <tr>\n",
       "      <th>0</th>\n",
       "      <td>2015-10-01</td>\n",
       "      <td>79</td>\n",
       "      <td>45</td>\n",
       "      <td>7.0</td>\n",
       "      <td>60</td>\n",
       "      <td>84</td>\n",
       "      <td>0</td>\n",
       "      <td>30</td>\n",
       "      <td>0</td>\n",
       "      <td>1</td>\n",
       "      <td>0</td>\n",
       "    </tr>\n",
       "    <tr>\n",
       "      <th>1</th>\n",
       "      <td>2015-10-02</td>\n",
       "      <td>56</td>\n",
       "      <td>46</td>\n",
       "      <td>5.0</td>\n",
       "      <td>45</td>\n",
       "      <td>84</td>\n",
       "      <td>1</td>\n",
       "      <td>120</td>\n",
       "      <td>1</td>\n",
       "      <td>1</td>\n",
       "      <td>1</td>\n",
       "    </tr>\n",
       "  </tbody>\n",
       "</table>\n",
       "</div>"
      ],
      "text/plain": [
       "        Date  WalkingTime  CyclingTime  SleepingTime  Studying  Weight  \\\n",
       "0 2015-10-01           79           45           7.0        60      84   \n",
       "1 2015-10-02           56           46           5.0        45      84   \n",
       "\n",
       "   Moving out for relaxation  Time spent with friends  Alcohol intake  \\\n",
       "0                          0                       30               0   \n",
       "1                          1                      120               1   \n",
       "\n",
       "   Craving for food  GuiltyFeel  \n",
       "0                 1           0  \n",
       "1                 1           1  "
      ]
     },
     "execution_count": 51,
     "metadata": {},
     "output_type": "execute_result"
    }
   ],
   "source": [
    "#getting an overview of the dataframe\n",
    "df.head(2)"
   ]
  },
  {
   "cell_type": "markdown",
   "metadata": {},
   "source": [
    "# Data description:\n",
    "    'Date' : datetime object\n",
    "    \n",
    "    'WalkingTime' : integer and signifies the amount of time I walked per day (in minutes)\n",
    "    \n",
    "    'CyclingTime' : integer and signifies the amount of time I biked per day (in minutes)\n",
    "    \n",
    "    'SleepingTime' : float and signifies the amount of time I slept per day (in hours)\n",
    "    \n",
    "    'Studying': integer and signifies the amount of time I studied per day (in minutes)\n",
    "    \n",
    "    'Weight': integer and signifies my weight (in kilograms)\n",
    "    \n",
    "    'Moving out for relaxation': binary integer and signifies 1= moved out, 0 = did not move out\n",
    "    \n",
    "    'Time spent with friends': integer and signifies the amount of time I spent per day with my friends (in minutes)\n",
    "    \n",
    "    'Alcohol intake': binary integer and signifies 1= drank alcohol, 0 = did not drink alcohol\n",
    "    \n",
    "    'Craving for food': binary integer and signifies 1= craved for food, 0 = did not crave for food\n",
    "    \n",
    "    'GuiltyFeel': binary integer and signifies 1= had guilty feel, 0 = did not have guilty feel\n",
    "    "
   ]
  },
  {
   "cell_type": "code",
   "execution_count": 166,
   "metadata": {},
   "outputs": [],
   "source": [
    "#converting 'SleepingTime' to minutes and an integer\n",
    "df['SleepingTime'] = df['SleepingTime']*60\n",
    "df['SleepingTime'] = df['SleepingTime'].astype(int)"
   ]
  },
  {
   "cell_type": "code",
   "execution_count": 142,
   "metadata": {},
   "outputs": [
    {
     "data": {
      "text/plain": [
       "Index(['Date', 'WalkingTime', 'CyclingTime', 'SleepingTime', 'Studying',\n",
       "       'Weight', 'Moving out for relaxation', 'Time spent with friends',\n",
       "       'Alcohol intake', 'Craving for food', 'GuiltyFeel'],\n",
       "      dtype='object')"
      ]
     },
     "execution_count": 142,
     "metadata": {},
     "output_type": "execute_result"
    }
   ],
   "source": [
    "df.columns"
   ]
  },
  {
   "cell_type": "markdown",
   "metadata": {},
   "source": [
    "# Data Exploration with data viz\n",
    "\n",
    "In the dataframe there are multiple target or dependent variables.\n",
    "\n",
    "1. 'Moving out for relaxation'\n",
    "\n",
    "2. 'Alcohol intake'\n",
    "\n",
    "3. 'Craving for food'\n",
    "\n",
    "4. 'GuiltyFeel'\n",
    "\n",
    "Measure the value counts of each of the target feature\n",
    "\n",
    "Data viz at this stage will provide an overview of the binary distribution\n",
    "\n",
    "Also calculate the respective percentages of the binary categories"
   ]
  },
  {
   "cell_type": "code",
   "execution_count": 62,
   "metadata": {},
   "outputs": [
    {
     "data": {
      "text/plain": [
       "0    574\n",
       "1    250\n",
       "Name: Moving out for relaxation, dtype: int64"
      ]
     },
     "execution_count": 62,
     "metadata": {},
     "output_type": "execute_result"
    }
   ],
   "source": [
    "df['Moving out for relaxation'].value_counts()"
   ]
  },
  {
   "cell_type": "code",
   "execution_count": 120,
   "metadata": {},
   "outputs": [
    {
     "data": {
      "text/plain": [
       "<matplotlib.axes._subplots.AxesSubplot at 0x1e547a895c0>"
      ]
     },
     "execution_count": 120,
     "metadata": {},
     "output_type": "execute_result"
    },
    {
     "data": {
      "image/png": "[encoded data removed]",
      "text/plain": [
       "<matplotlib.figure.Figure at 0x1e5469a1048>"
      ]
     },
     "metadata": {},
     "output_type": "display_data"
    }
   ],
   "source": [
    "sns.countplot(x='Moving out for relaxation', data = df, palette = 'hls')"
   ]
  },
  {
   "cell_type": "code",
   "execution_count": 78,
   "metadata": {},
   "outputs": [
    {
     "name": "stdout",
     "output_type": "stream",
     "text": [
      "% of not going out 69.66019417475728\n",
      "% of going out 30.339805825242717\n"
     ]
    }
   ],
   "source": [
    "no = len(df[df['Moving out for relaxation'] == 0])\n",
    "yes = len(df[df['Moving out for relaxation'] == 1])\n",
    "percent_no = no/(no+yes)\n",
    "print ('% of not going out',percent_no*100)\n",
    "percent_yes = yes/(no+yes)\n",
    "print ('% of going out' ,percent_yes*100)"
   ]
  },
  {
   "cell_type": "code",
   "execution_count": 63,
   "metadata": {},
   "outputs": [
    {
     "data": {
      "text/plain": [
       "0    697\n",
       "1    127\n",
       "Name: Alcohol intake, dtype: int64"
      ]
     },
     "execution_count": 63,
     "metadata": {},
     "output_type": "execute_result"
    }
   ],
   "source": [
    "df['Alcohol intake'].value_counts()"
   ]
  },
  {
   "cell_type": "code",
   "execution_count": 66,
   "metadata": {},
   "outputs": [
    {
     "data": {
      "text/plain": [
       "<matplotlib.axes._subplots.AxesSubplot at 0x1e545bdf400>"
      ]
     },
     "execution_count": 66,
     "metadata": {},
     "output_type": "execute_result"
    },
    {
     "data": {
      "image/png": "[encoded data removed]",
      "text/plain": [
       "<matplotlib.figure.Figure at 0x1e545b3d7b8>"
      ]
     },
     "metadata": {},
     "output_type": "display_data"
    }
   ],
   "source": [
    "sns.countplot(x='Alcohol intake', data = df)"
   ]
  },
  {
   "cell_type": "code",
   "execution_count": 79,
   "metadata": {},
   "outputs": [
    {
     "name": "stdout",
     "output_type": "stream",
     "text": [
      "% of not drinking alcohol 84.5873786407767\n",
      "% of drinking alcohol 15.4126213592233\n"
     ]
    }
   ],
   "source": [
    "no = len(df[df['Alcohol intake'] == 0])\n",
    "yes = len(df[df['Alcohol intake'] == 1])\n",
    "percent_no = no/(no+yes)\n",
    "print ('% of not drinking alcohol',percent_no*100)\n",
    "percent_yes = yes/(no+yes)\n",
    "print ('% of drinking alcohol' ,percent_yes*100)"
   ]
  },
  {
   "cell_type": "code",
   "execution_count": 67,
   "metadata": {},
   "outputs": [
    {
     "data": {
      "text/plain": [
       "0    681\n",
       "1    143\n",
       "Name: Craving for food, dtype: int64"
      ]
     },
     "execution_count": 67,
     "metadata": {},
     "output_type": "execute_result"
    }
   ],
   "source": [
    "df['Craving for food'].value_counts()"
   ]
  },
  {
   "cell_type": "code",
   "execution_count": 68,
   "metadata": {},
   "outputs": [
    {
     "data": {
      "text/plain": [
       "<matplotlib.axes._subplots.AxesSubplot at 0x1e545cf1160>"
      ]
     },
     "execution_count": 68,
     "metadata": {},
     "output_type": "execute_result"
    },
    {
     "data": {
      "image/png": "[encoded data removed]",
      "text/plain": [
       "<matplotlib.figure.Figure at 0x1e5467715f8>"
      ]
     },
     "metadata": {},
     "output_type": "display_data"
    }
   ],
   "source": [
    "sns.countplot(x='Craving for food',data =df)"
   ]
  },
  {
   "cell_type": "code",
   "execution_count": 80,
   "metadata": {},
   "outputs": [
    {
     "name": "stdout",
     "output_type": "stream",
     "text": [
      "% of not craving for food 82.64563106796116\n",
      "% of carving for food 17.354368932038835\n"
     ]
    }
   ],
   "source": [
    "no = len(df[df['Craving for food'] == 0])\n",
    "yes = len(df[df['Craving for food'] == 1])\n",
    "percent_no = no/(no+yes)\n",
    "print ('% of not craving for food',percent_no*100)\n",
    "percent_yes = yes/(no+yes)\n",
    "print ('% of carving for food' ,percent_yes*100)"
   ]
  },
  {
   "cell_type": "code",
   "execution_count": 69,
   "metadata": {},
   "outputs": [
    {
     "data": {
      "text/plain": [
       "0    635\n",
       "1    189\n",
       "Name: GuiltyFeel, dtype: int64"
      ]
     },
     "execution_count": 69,
     "metadata": {},
     "output_type": "execute_result"
    }
   ],
   "source": [
    "df['GuiltyFeel'].value_counts()"
   ]
  },
  {
   "cell_type": "code",
   "execution_count": 70,
   "metadata": {},
   "outputs": [
    {
     "data": {
      "text/plain": [
       "<matplotlib.axes._subplots.AxesSubplot at 0x1e545cfbcf8>"
      ]
     },
     "execution_count": 70,
     "metadata": {},
     "output_type": "execute_result"
    },
    {
     "data": {
      "image/png": "[encoded data removed]",
      "text/plain": [
       "<matplotlib.figure.Figure at 0x1e545c83ac8>"
      ]
     },
     "metadata": {},
     "output_type": "display_data"
    }
   ],
   "source": [
    "sns.countplot(x = 'GuiltyFeel', data=df)"
   ]
  },
  {
   "cell_type": "code",
   "execution_count": 81,
   "metadata": {},
   "outputs": [
    {
     "name": "stdout",
     "output_type": "stream",
     "text": [
      "% of not having GuiltyFeel 77.06310679611651\n",
      "% of having GuiltyFeel 22.936893203883496\n"
     ]
    }
   ],
   "source": [
    "no = len(df[df['GuiltyFeel'] == 0])\n",
    "yes = len(df[df['GuiltyFeel'] == 1])\n",
    "percent_no = no/(no+yes)\n",
    "print ('% of not having GuiltyFeel',percent_no*100)\n",
    "percent_yes = yes/(no+yes)\n",
    "print ('% of having GuiltyFeel' ,percent_yes*100)"
   ]
  },
  {
   "cell_type": "markdown",
   "metadata": {},
   "source": [
    "# Balancing the classes:\n",
    "\n",
    "For instance the ratio between having a guilty feel and not having a guilty feel = 23:77, which has a wide variance. Therefore the\n",
    "    independented parameters have to be balanced. \n",
    "\n",
    "One easy of balancing classes is to calculate the mean"
   ]
  },
  {
   "cell_type": "code",
   "execution_count": 121,
   "metadata": {},
   "outputs": [
    {
     "data": {
      "text/html": [
       "<div>\n",
       "<style scoped>\n",
       "    .dataframe tbody tr th:only-of-type {\n",
       "        vertical-align: middle;\n",
       "    }\n",
       "\n",
       "    .dataframe tbody tr th {\n",
       "        vertical-align: top;\n",
       "    }\n",
       "\n",
       "    .dataframe thead th {\n",
       "        text-align: right;\n",
       "    }\n",
       "</style>\n",
       "<table border=\"1\" class=\"dataframe\">\n",
       "  <thead>\n",
       "    <tr style=\"text-align: right;\">\n",
       "      <th></th>\n",
       "      <th>WalkingTime</th>\n",
       "      <th>CyclingTime</th>\n",
       "      <th>SleepingTime</th>\n",
       "      <th>Studying</th>\n",
       "      <th>Weight</th>\n",
       "      <th>Time spent with friends</th>\n",
       "      <th>Alcohol intake</th>\n",
       "      <th>Craving for food</th>\n",
       "      <th>GuiltyFeel</th>\n",
       "    </tr>\n",
       "    <tr>\n",
       "      <th>Moving out for relaxation</th>\n",
       "      <th></th>\n",
       "      <th></th>\n",
       "      <th></th>\n",
       "      <th></th>\n",
       "      <th></th>\n",
       "      <th></th>\n",
       "      <th></th>\n",
       "      <th></th>\n",
       "      <th></th>\n",
       "    </tr>\n",
       "  </thead>\n",
       "  <tbody>\n",
       "    <tr>\n",
       "      <th>0</th>\n",
       "      <td>31.501742</td>\n",
       "      <td>59.116725</td>\n",
       "      <td>461.236934</td>\n",
       "      <td>104.789199</td>\n",
       "      <td>78.142857</td>\n",
       "      <td>31.940767</td>\n",
       "      <td>0.149826</td>\n",
       "      <td>0.172474</td>\n",
       "      <td>0.224739</td>\n",
       "    </tr>\n",
       "    <tr>\n",
       "      <th>1</th>\n",
       "      <td>31.892000</td>\n",
       "      <td>55.968000</td>\n",
       "      <td>527.472000</td>\n",
       "      <td>111.908000</td>\n",
       "      <td>78.108000</td>\n",
       "      <td>39.056000</td>\n",
       "      <td>0.164000</td>\n",
       "      <td>0.176000</td>\n",
       "      <td>0.240000</td>\n",
       "    </tr>\n",
       "  </tbody>\n",
       "</table>\n",
       "</div>"
      ],
      "text/plain": [
       "                           WalkingTime  CyclingTime  SleepingTime    Studying  \\\n",
       "Moving out for relaxation                                                       \n",
       "0                            31.501742    59.116725    461.236934  104.789199   \n",
       "1                            31.892000    55.968000    527.472000  111.908000   \n",
       "\n",
       "                              Weight  Time spent with friends  Alcohol intake  \\\n",
       "Moving out for relaxation                                                       \n",
       "0                          78.142857                31.940767        0.149826   \n",
       "1                          78.108000                39.056000        0.164000   \n",
       "\n",
       "                           Craving for food  GuiltyFeel  \n",
       "Moving out for relaxation                                \n",
       "0                                  0.172474    0.224739  \n",
       "1                                  0.176000    0.240000  "
      ]
     },
     "execution_count": 121,
     "metadata": {},
     "output_type": "execute_result"
    }
   ],
   "source": [
    "df.groupby('Moving out for relaxation').mean()"
   ]
  },
  {
   "cell_type": "code",
   "execution_count": 84,
   "metadata": {},
   "outputs": [
    {
     "data": {
      "text/html": [
       "<div>\n",
       "<style scoped>\n",
       "    .dataframe tbody tr th:only-of-type {\n",
       "        vertical-align: middle;\n",
       "    }\n",
       "\n",
       "    .dataframe tbody tr th {\n",
       "        vertical-align: top;\n",
       "    }\n",
       "\n",
       "    .dataframe thead th {\n",
       "        text-align: right;\n",
       "    }\n",
       "</style>\n",
       "<table border=\"1\" class=\"dataframe\">\n",
       "  <thead>\n",
       "    <tr style=\"text-align: right;\">\n",
       "      <th></th>\n",
       "      <th>WalkingTime</th>\n",
       "      <th>CyclingTime</th>\n",
       "      <th>SleepingTime</th>\n",
       "      <th>Studying</th>\n",
       "      <th>Weight</th>\n",
       "      <th>Moving out for relaxation</th>\n",
       "      <th>Time spent with friends</th>\n",
       "      <th>Craving for food</th>\n",
       "      <th>GuiltyFeel</th>\n",
       "    </tr>\n",
       "    <tr>\n",
       "      <th>Alcohol intake</th>\n",
       "      <th></th>\n",
       "      <th></th>\n",
       "      <th></th>\n",
       "      <th></th>\n",
       "      <th></th>\n",
       "      <th></th>\n",
       "      <th></th>\n",
       "      <th></th>\n",
       "      <th></th>\n",
       "    </tr>\n",
       "  </thead>\n",
       "  <tbody>\n",
       "    <tr>\n",
       "      <th>0</th>\n",
       "      <td>32.134864</td>\n",
       "      <td>58.131994</td>\n",
       "      <td>28615.093257</td>\n",
       "      <td>105.529412</td>\n",
       "      <td>78.172166</td>\n",
       "      <td>0.299857</td>\n",
       "      <td>32.362984</td>\n",
       "      <td>0.05165</td>\n",
       "      <td>0.117647</td>\n",
       "    </tr>\n",
       "    <tr>\n",
       "      <th>1</th>\n",
       "      <td>28.795276</td>\n",
       "      <td>58.322835</td>\n",
       "      <td>30333.543307</td>\n",
       "      <td>114.740157</td>\n",
       "      <td>77.913386</td>\n",
       "      <td>0.322835</td>\n",
       "      <td>43.629921</td>\n",
       "      <td>0.84252</td>\n",
       "      <td>0.842520</td>\n",
       "    </tr>\n",
       "  </tbody>\n",
       "</table>\n",
       "</div>"
      ],
      "text/plain": [
       "                WalkingTime  CyclingTime  SleepingTime    Studying     Weight  \\\n",
       "Alcohol intake                                                                  \n",
       "0                 32.134864    58.131994  28615.093257  105.529412  78.172166   \n",
       "1                 28.795276    58.322835  30333.543307  114.740157  77.913386   \n",
       "\n",
       "                Moving out for relaxation  Time spent with friends  \\\n",
       "Alcohol intake                                                       \n",
       "0                                0.299857                32.362984   \n",
       "1                                0.322835                43.629921   \n",
       "\n",
       "                Craving for food  GuiltyFeel  \n",
       "Alcohol intake                                \n",
       "0                        0.05165    0.117647  \n",
       "1                        0.84252    0.842520  "
      ]
     },
     "execution_count": 84,
     "metadata": {},
     "output_type": "execute_result"
    }
   ],
   "source": [
    "df.groupby('Alcohol intake').mean()"
   ]
  },
  {
   "cell_type": "code",
   "execution_count": 85,
   "metadata": {},
   "outputs": [
    {
     "data": {
      "text/html": [
       "<div>\n",
       "<style scoped>\n",
       "    .dataframe tbody tr th:only-of-type {\n",
       "        vertical-align: middle;\n",
       "    }\n",
       "\n",
       "    .dataframe tbody tr th {\n",
       "        vertical-align: top;\n",
       "    }\n",
       "\n",
       "    .dataframe thead th {\n",
       "        text-align: right;\n",
       "    }\n",
       "</style>\n",
       "<table border=\"1\" class=\"dataframe\">\n",
       "  <thead>\n",
       "    <tr style=\"text-align: right;\">\n",
       "      <th></th>\n",
       "      <th>WalkingTime</th>\n",
       "      <th>CyclingTime</th>\n",
       "      <th>SleepingTime</th>\n",
       "      <th>Studying</th>\n",
       "      <th>Weight</th>\n",
       "      <th>Moving out for relaxation</th>\n",
       "      <th>Time spent with friends</th>\n",
       "      <th>Alcohol intake</th>\n",
       "      <th>GuiltyFeel</th>\n",
       "    </tr>\n",
       "    <tr>\n",
       "      <th>Craving for food</th>\n",
       "      <th></th>\n",
       "      <th></th>\n",
       "      <th></th>\n",
       "      <th></th>\n",
       "      <th></th>\n",
       "      <th></th>\n",
       "      <th></th>\n",
       "      <th></th>\n",
       "      <th></th>\n",
       "    </tr>\n",
       "  </thead>\n",
       "  <tbody>\n",
       "    <tr>\n",
       "      <th>0</th>\n",
       "      <td>32.161527</td>\n",
       "      <td>58.063142</td>\n",
       "      <td>28535.154185</td>\n",
       "      <td>104.513950</td>\n",
       "      <td>78.077827</td>\n",
       "      <td>0.302496</td>\n",
       "      <td>31.913363</td>\n",
       "      <td>0.029369</td>\n",
       "      <td>0.120411</td>\n",
       "    </tr>\n",
       "    <tr>\n",
       "      <th>1</th>\n",
       "      <td>29.041958</td>\n",
       "      <td>58.629371</td>\n",
       "      <td>30521.958042</td>\n",
       "      <td>118.545455</td>\n",
       "      <td>78.391608</td>\n",
       "      <td>0.307692</td>\n",
       "      <td>44.510490</td>\n",
       "      <td>0.748252</td>\n",
       "      <td>0.748252</td>\n",
       "    </tr>\n",
       "  </tbody>\n",
       "</table>\n",
       "</div>"
      ],
      "text/plain": [
       "                  WalkingTime  CyclingTime  SleepingTime    Studying  \\\n",
       "Craving for food                                                       \n",
       "0                   32.161527    58.063142  28535.154185  104.513950   \n",
       "1                   29.041958    58.629371  30521.958042  118.545455   \n",
       "\n",
       "                     Weight  Moving out for relaxation  \\\n",
       "Craving for food                                         \n",
       "0                 78.077827                   0.302496   \n",
       "1                 78.391608                   0.307692   \n",
       "\n",
       "                  Time spent with friends  Alcohol intake  GuiltyFeel  \n",
       "Craving for food                                                       \n",
       "0                               31.913363        0.029369    0.120411  \n",
       "1                               44.510490        0.748252    0.748252  "
      ]
     },
     "execution_count": 85,
     "metadata": {},
     "output_type": "execute_result"
    }
   ],
   "source": [
    "df.groupby('Craving for food').mean()"
   ]
  },
  {
   "cell_type": "code",
   "execution_count": 86,
   "metadata": {},
   "outputs": [
    {
     "data": {
      "text/html": [
       "<div>\n",
       "<style scoped>\n",
       "    .dataframe tbody tr th:only-of-type {\n",
       "        vertical-align: middle;\n",
       "    }\n",
       "\n",
       "    .dataframe tbody tr th {\n",
       "        vertical-align: top;\n",
       "    }\n",
       "\n",
       "    .dataframe thead th {\n",
       "        text-align: right;\n",
       "    }\n",
       "</style>\n",
       "<table border=\"1\" class=\"dataframe\">\n",
       "  <thead>\n",
       "    <tr style=\"text-align: right;\">\n",
       "      <th></th>\n",
       "      <th>WalkingTime</th>\n",
       "      <th>CyclingTime</th>\n",
       "      <th>SleepingTime</th>\n",
       "      <th>Studying</th>\n",
       "      <th>Weight</th>\n",
       "      <th>Moving out for relaxation</th>\n",
       "      <th>Time spent with friends</th>\n",
       "      <th>Alcohol intake</th>\n",
       "      <th>Craving for food</th>\n",
       "    </tr>\n",
       "    <tr>\n",
       "      <th>GuiltyFeel</th>\n",
       "      <th></th>\n",
       "      <th></th>\n",
       "      <th></th>\n",
       "      <th></th>\n",
       "      <th></th>\n",
       "      <th></th>\n",
       "      <th></th>\n",
       "      <th></th>\n",
       "      <th></th>\n",
       "    </tr>\n",
       "  </thead>\n",
       "  <tbody>\n",
       "    <tr>\n",
       "      <th>0</th>\n",
       "      <td>31.440945</td>\n",
       "      <td>58.480315</td>\n",
       "      <td>28690.582677</td>\n",
       "      <td>101.817323</td>\n",
       "      <td>78.155906</td>\n",
       "      <td>0.299213</td>\n",
       "      <td>32.503937</td>\n",
       "      <td>0.031496</td>\n",
       "      <td>0.056693</td>\n",
       "    </tr>\n",
       "    <tr>\n",
       "      <th>1</th>\n",
       "      <td>32.222222</td>\n",
       "      <td>57.089947</td>\n",
       "      <td>29516.190476</td>\n",
       "      <td>124.190476</td>\n",
       "      <td>78.052910</td>\n",
       "      <td>0.317460</td>\n",
       "      <td>39.460317</td>\n",
       "      <td>0.566138</td>\n",
       "      <td>0.566138</td>\n",
       "    </tr>\n",
       "  </tbody>\n",
       "</table>\n",
       "</div>"
      ],
      "text/plain": [
       "            WalkingTime  CyclingTime  SleepingTime    Studying     Weight  \\\n",
       "GuiltyFeel                                                                  \n",
       "0             31.440945    58.480315  28690.582677  101.817323  78.155906   \n",
       "1             32.222222    57.089947  29516.190476  124.190476  78.052910   \n",
       "\n",
       "            Moving out for relaxation  Time spent with friends  \\\n",
       "GuiltyFeel                                                       \n",
       "0                            0.299213                32.503937   \n",
       "1                            0.317460                39.460317   \n",
       "\n",
       "            Alcohol intake  Craving for food  \n",
       "GuiltyFeel                                    \n",
       "0                 0.031496          0.056693  \n",
       "1                 0.566138          0.566138  "
      ]
     },
     "execution_count": 86,
     "metadata": {},
     "output_type": "execute_result"
    }
   ],
   "source": [
    "df.groupby('GuiltyFeel').mean()"
   ]
  },
  {
   "cell_type": "markdown",
   "metadata": {},
   "source": [
    "# Observations after balancing:\n",
    "    \n",
    "    1. Chances of alcohol intake and craving for food increases when I spend more time with friends\n",
    "    \n",
    "    2. When I take alcohol or crave for food my sleeping time increases\n",
    "    \n",
    "    3. when I study more, I crave for food\n",
    "    \n",
    "    4. When I move out for relaxation  and spend more time with my friends, I feel more guilty\n",
    "    \n",
    "More can be generated .. . ...\n",
    "    \n",
    "    "
   ]
  },
  {
   "cell_type": "markdown",
   "metadata": {},
   "source": [
    "# Additional Visualizations:\n",
    "    \n",
    "    Multiple combinations of independent and target variables can be generated based on needs and wants"
   ]
  },
  {
   "cell_type": "code",
   "execution_count": 92,
   "metadata": {},
   "outputs": [
    {
     "name": "stdout",
     "output_type": "stream",
     "text": [
      "I sleep more when i do not have a guilty feel\n"
     ]
    },
    {
     "data": {
      "image/png": "[encoded data removed]",
      "text/plain": [
       "<matplotlib.figure.Figure at 0x1e5461bd6d8>"
      ]
     },
     "metadata": {},
     "output_type": "display_data"
    }
   ],
   "source": [
    "pd.crosstab (df.SleepingTime, df.GuiltyFeel). plot (kind = 'bar')\n",
    "plt.title = (\"Relation between sleeping time and GuiltyFeel\")\n",
    "print ('I sleep more when i do not have a guilty feel')"
   ]
  },
  {
   "cell_type": "code",
   "execution_count": 94,
   "metadata": {},
   "outputs": [
    {
     "name": "stdout",
     "output_type": "stream",
     "text": [
      "I sleep more when i do not have a guilty feel\n"
     ]
    },
    {
     "data": {
      "image/png": "[encoded data removed]",
      "text/plain": [
       "<matplotlib.figure.Figure at 0x1e545dd4f28>"
      ]
     },
     "metadata": {},
     "output_type": "display_data"
    }
   ],
   "source": [
    "pd.crosstab (df.SleepingTime, df.GuiltyFeel). plot (kind = 'bar', stacked = True)\n",
    "plt.title = (\"Relation between sleeping time and GuiltyFeel\")\n",
    "print ('I sleep more when i do not have a guilty feel')"
   ]
  },
  {
   "cell_type": "code",
   "execution_count": 93,
   "metadata": {},
   "outputs": [
    {
     "name": "stdout",
     "output_type": "stream",
     "text": [
      "I sleep more when i do not have a guilty feel\n"
     ]
    },
    {
     "data": {
      "image/png": "[encoded data removed]",
      "text/plain": [
       "<matplotlib.figure.Figure at 0x1e545f959e8>"
      ]
     },
     "metadata": {},
     "output_type": "display_data"
    }
   ],
   "source": [
    "pd.crosstab (df.Studying, df.GuiltyFeel). plot (kind = 'bar')\n",
    "plt.title = (\"Relation between studying time and GuiltyFeel\")\n",
    "print ('I stydy more when i do not have a guilty feel')"
   ]
  },
  {
   "cell_type": "code",
   "execution_count": 99,
   "metadata": {},
   "outputs": [
    {
     "data": {
      "text/plain": [
       "Text(0,0.5,'Frequency')"
      ]
     },
     "execution_count": 99,
     "metadata": {},
     "output_type": "execute_result"
    },
    {
     "data": {
      "image/png": "[encoded data removed]",
      "text/plain": [
       "<matplotlib.figure.Figure at 0x1e547b42860>"
      ]
     },
     "metadata": {},
     "output_type": "display_data"
    }
   ],
   "source": [
    "df.WalkingTime.hist()\n",
    "plt.xlabel('WalkingTime')\n",
    "plt.ylabel('Frequency')\n"
   ]
  },
  {
   "cell_type": "code",
   "execution_count": 100,
   "metadata": {},
   "outputs": [
    {
     "data": {
      "text/plain": [
       "Text(0,0.5,'Frequency')"
      ]
     },
     "execution_count": 100,
     "metadata": {},
     "output_type": "execute_result"
    },
    {
     "data": {
      "image/png": "[encoded data removed]",
      "text/plain": [
       "<matplotlib.figure.Figure at 0x1e547b31b38>"
      ]
     },
     "metadata": {},
     "output_type": "display_data"
    }
   ],
   "source": [
    "df.WalkingTime.hist()\n",
    "plt.xlabel('CyclingTime')\n",
    "plt.ylabel('Frequency')"
   ]
  },
  {
   "cell_type": "markdown",
   "metadata": {},
   "source": [
    "# Create dummy variables\n",
    "\n",
    "https://www.moresteam.com/whitepapers/download/dummy-variables.pdf\n",
    "    \n",
    "That is variables with only two values, zero and one."
   ]
  },
  {
   "cell_type": "code",
   "execution_count": 171,
   "metadata": {},
   "outputs": [],
   "source": [
    "cat_vars=['Date', 'WalkingTime', 'CyclingTime', 'SleepingTime', 'Studying',\n",
    "       'Weight', 'Moving out for relaxation', 'Time spent with friends',\n",
    "       'Alcohol intake', 'Craving for food', 'GuiltyFeel']\n",
    "for var in cat_vars:\n",
    "    cat_list='var'+'_'+var\n",
    "    cat_list = pd.get_dummies(df[var], prefix=var)\n",
    "    data1=df.join(cat_list)\n",
    "    df=data1\n",
    "cat_vars=['Date', 'WalkingTime', 'CyclingTime', 'SleepingTime', 'Studying',\n",
    "       'Weight', 'Moving out for relaxation', 'Time spent with friends',\n",
    "       'Alcohol intake', 'Craving for food', 'GuiltyFeel']\n",
    "data_vars=df.columns.values.tolist()\n",
    "to_keep=[i for i in data_vars if i not in cat_vars]\n",
    "    \n",
    "\n"
   ]
  },
  {
   "cell_type": "code",
   "execution_count": 186,
   "metadata": {},
   "outputs": [
    {
     "data": {
      "text/plain": [
       "array(['Date', 'WalkingTime', 'CyclingTime', ..., 'Craving for food_1',\n",
       "       'GuiltyFeel_0', 'GuiltyFeel_1'], dtype=object)"
      ]
     },
     "execution_count": 186,
     "metadata": {},
     "output_type": "execute_result"
    }
   ],
   "source": [
    "data_final=df\n",
    "data_final.columns.values"
   ]
  },
  {
   "cell_type": "code",
   "execution_count": 187,
   "metadata": {},
   "outputs": [
    {
     "data": {
      "text/plain": [
       "(824, 1210)"
      ]
     },
     "execution_count": 187,
     "metadata": {},
     "output_type": "execute_result"
    }
   ],
   "source": [
    "data_final.shape"
   ]
  },
  {
   "cell_type": "markdown",
   "metadata": {},
   "source": [
    "# Over-sampling using SMOTE:\n",
    "    \n",
    "    up-sample the \"GuilyFeel\" using the SMOTE algorithm(Synthetic Minority Oversampling Technique). \n",
    "    \n",
    "    SMOTE:\n",
    "\n",
    "    Works by creating synthetic samples from the minor class (no-GuiltyFeel) instead of creating copies.\n",
    "    \n",
    "    Randomly choosing one of the k-nearest-neighbors and using it to create a similar, but randomly tweaked, new observations\n",
    "                                                                                                                                                                                                                                                                                                                                                                                                                                                                                                                                                                                                                                                                                                                                                                                                                                                                                                                                                                                                                                                                                                                                                                                                                                                                                                                                                                                                                                                                                                                                                                                                                                                                                                                                                                                                                                                                                                                                                                                                                                                                                                                                                                                                                                                                                                                                                                                                                                                                                                                                                                                                                                                                                                                                                                                                                                                                                                                                                                                                                                                                                                                                                                                                                                                                                                                                                                                                                                                                                                                                                                                                                                                                                                                                                                                                                                                                                                                                                                                                                                                                                                                                                                                                                                                                                                                                                                                                                                                                                                                                                                                                                                                                                                                                                                                                                                                                                                                                                                                                                                                                                                                                                                                                                                                                                                                                                                                                                                                                                                                                                                                                                                                                                                                                                                                                                                                                                                                                                                                                                                                                                                                                                                                                                                                                                                                                                                                                                                                                                "
   ]
  },
  {
   "cell_type": "code",
   "execution_count": 180,
   "metadata": {},
   "outputs": [],
   "source": [
    "logreg = LogisticRegression()"
   ]
  },
  {
   "cell_type": "code",
   "execution_count": 201,
   "metadata": {},
   "outputs": [],
   "source": [
    "X = data_final.loc[:, ['WalkingTime', 'CyclingTime', 'SleepingTime', 'Studying',\n",
    "       'Weight','Time spent with friends']]\n",
    "y = data_final.loc[:, 'GuiltyFeel']"
   ]
  },
  {
   "cell_type": "code",
   "execution_count": 204,
   "metadata": {},
   "outputs": [
    {
     "name": "stdout",
     "output_type": "stream",
     "text": [
      "length of oversampled data is  1156\n",
      "Number of no subscription in oversampled data 578\n",
      "Number of subscription 578\n",
      "Proportion of no subscription data in oversampled data is  0.5\n",
      "Proportion of subscription data in oversampled data is  0.5\n"
     ]
    }
   ],
   "source": [
    "os = SMOTE(random_state=42)\n",
    "X_train, X_test, y_train, y_test = train_test_split(X, y, test_size=0.1, random_state=42)\n",
    "columns = X_train.columns\n",
    "os_data_X,os_data_y=os.fit_sample(X_train, y_train)\n",
    "os_data_X = pd.DataFrame(data=os_data_X,columns=columns )\n",
    "os_data_y= pd.DataFrame(data=os_data_y,columns=['GuiltyFeel'])\n",
    "# we can Check the numbers of our data\n",
    "print(\"length of oversampled data is \",len(os_data_X))\n",
    "print(\"Number of no subscription in oversampled data\",len(os_data_y[os_data_y['GuiltyFeel']==0]))\n",
    "print(\"Number of subscription\",len(os_data_y[os_data_y['GuiltyFeel']==1]))\n",
    "print(\"Proportion of no subscription data in oversampled data is \",len(os_data_y[os_data_y['GuiltyFeel']==0])/len(os_data_X))\n",
    "print(\"Proportion of subscription data in oversampled data is \",len(os_data_y[os_data_y['GuiltyFeel']==1])/len(os_data_X))\n"
   ]
  },
  {
   "cell_type": "code",
   "execution_count": 205,
   "metadata": {},
   "outputs": [
    {
     "name": "stdout",
     "output_type": "stream",
     "text": [
      "[ True  True  True  True  True  True]\n",
      "[1 1 1 1 1 1]\n"
     ]
    }
   ],
   "source": [
    "data_final_vars=data_final.columns.values.tolist()\n",
    "y=['y']\n",
    "X=[i for i in data_final_vars if i not in y]\n",
    "from sklearn.feature_selection import RFE\n",
    "from sklearn.linear_model import LogisticRegression\n",
    "logreg = LogisticRegression()\n",
    "rfe = RFE(logreg, 20)\n",
    "rfe = rfe.fit(os_data_X, os_data_y.values.ravel())\n",
    "print(rfe.support_)\n",
    "print(rfe.ranking_)"
   ]
  },
  {
   "cell_type": "markdown",
   "metadata": {},
   "source": [
    "# Recursive Feature Elimination:\n",
    "    \n",
    "    Based on the idea to repeatedly construct a model and choose the best or the worst preforming feature\n",
    "    \n",
    "    Setting the feature aside and then repeating the same process with the rest of the features.\n",
    "    \n",
    "    This process is repated until all the features are exhausted\n",
    "    \n",
    "    Actual goal of RFE is to select features by recursively considering smaller and smaller sets of features.\n",
    "    "
   ]
  },
  {
   "cell_type": "code",
   "execution_count": 196,
   "metadata": {},
   "outputs": [],
   "source": [
    "y = ['GuiltyFeel']\n",
    "x = [i for i in df if i not in y]"
   ]
  },
  {
   "cell_type": "code",
   "execution_count": 197,
   "metadata": {},
   "outputs": [],
   "source": [
    "from sklearn.feature_selection import RFE\n",
    "from sklearn.linear_model import LogisticRegression"
   ]
  },
  {
   "cell_type": "code",
   "execution_count": 207,
   "metadata": {
    "scrolled": true
   },
   "outputs": [
    {
     "name": "stdout",
     "output_type": "stream",
     "text": [
      "[ True  True  True  True  True  True]\n",
      "[1 1 1 1 1 1]\n",
      "RFE(estimator=LogisticRegression(C=1.0, class_weight=None, dual=False, fit_intercept=True,\n",
      "          intercept_scaling=1, max_iter=100, multi_class='ovr', n_jobs=1,\n",
      "          penalty='l2', random_state=None, solver='liblinear', tol=0.0001,\n",
      "          verbose=0, warm_start=False),\n",
      "  n_features_to_select=20, step=1, verbose=0)\n"
     ]
    }
   ],
   "source": [
    "data_final_vars=data_final.columns.values.tolist()\n",
    "y=['y']\n",
    "X=[i for i in data_final_vars if i not in y]\n",
    "from sklearn.feature_selection import RFE\n",
    "from sklearn.linear_model import LogisticRegression\n",
    "logreg = LogisticRegression()\n",
    "rfe = RFE(logreg, 20)\n",
    "rfe = rfe.fit(os_data_X, os_data_y.values.ravel())\n",
    "print(rfe.support_)\n",
    "print(rfe.ranking_)\n",
    "print(rfe)"
   ]
  },
  {
   "cell_type": "code",
   "execution_count": 208,
   "metadata": {},
   "outputs": [],
   "source": [
    "cols=['WalkingTime', 'CyclingTime', 'SleepingTime', 'Studying',\n",
    "       'Weight','Time spent with friends'] \n",
    "X=os_data_X[cols]\n",
    "y=os_data_y['GuiltyFeel']"
   ]
  },
  {
   "cell_type": "markdown",
   "metadata": {},
   "source": [
    "# Implementing the model"
   ]
  },
  {
   "cell_type": "code",
   "execution_count": 209,
   "metadata": {},
   "outputs": [
    {
     "name": "stderr",
     "output_type": "stream",
     "text": [
      "C:\\Users\\Arunakiry Natarajan\\Anaconda3\\lib\\site-packages\\statsmodels\\compat\\pandas.py:56: FutureWarning: The pandas.core.datetools module is deprecated and will be removed in a future version. Please use the pandas.tseries module instead.\n",
      "  from pandas.core import datetools\n"
     ]
    },
    {
     "name": "stdout",
     "output_type": "stream",
     "text": [
      "Optimization terminated successfully.\n",
      "         Current function value: 0.688096\n",
      "         Iterations 5\n",
      "                            Results: Logit\n",
      "======================================================================\n",
      "Model:                Logit              No. Iterations:     5.0000   \n",
      "Dependent Variable:   GuiltyFeel         Pseudo R-squared:   0.007    \n",
      "Date:                 2018-09-27 22:59   AIC:                1602.8789\n",
      "No. Observations:     1156               BIC:                1633.1952\n",
      "Df Model:             5                  Log-Likelihood:     -795.44  \n",
      "Df Residuals:         1150               LL-Null:            -801.28  \n",
      "Converged:            1.0000             Scale:              1.0000   \n",
      "----------------------------------------------------------------------\n",
      "                         Coef.  Std.Err.    z    P>|z|   [0.025 0.975]\n",
      "----------------------------------------------------------------------\n",
      "WalkingTime             -0.0015   0.0020 -0.7836 0.4333 -0.0054 0.0023\n",
      "CyclingTime             -0.0020   0.0015 -1.2781 0.2012 -0.0050 0.0010\n",
      "SleepingTime             0.0001   0.0002  0.6318 0.5275 -0.0002 0.0004\n",
      "Studying                 0.0012   0.0007  1.8924 0.0584 -0.0000 0.0025\n",
      "Weight                  -0.0021   0.0022 -0.9393 0.3476 -0.0064 0.0023\n",
      "Time spent with friends  0.0040   0.0019  2.1240 0.0337  0.0003 0.0077\n",
      "======================================================================\n",
      "\n"
     ]
    }
   ],
   "source": [
    "import statsmodels.api as sm\n",
    "logit_model=sm.Logit(y,X)\n",
    "result=logit_model.fit()\n",
    "print(result.summary2())"
   ]
  },
  {
   "cell_type": "markdown",
   "metadata": {},
   "source": [
    "# Fitting the model and checking the accuracy of the fit\n"
   ]
  },
  {
   "cell_type": "code",
   "execution_count": 210,
   "metadata": {},
   "outputs": [
    {
     "data": {
      "text/plain": [
       "LogisticRegression(C=1.0, class_weight=None, dual=False, fit_intercept=True,\n",
       "          intercept_scaling=1, max_iter=100, multi_class='ovr', n_jobs=1,\n",
       "          penalty='l2', random_state=None, solver='liblinear', tol=0.0001,\n",
       "          verbose=0, warm_start=False)"
      ]
     },
     "execution_count": 210,
     "metadata": {},
     "output_type": "execute_result"
    }
   ],
   "source": [
    "X_train, X_test, y_train, y_test = train_test_split(X, y, test_size=0.3, random_state=0)\n",
    "logreg = LogisticRegression()\n",
    "logreg.fit(X_train, y_train)"
   ]
  },
  {
   "cell_type": "code",
   "execution_count": 211,
   "metadata": {},
   "outputs": [
    {
     "name": "stdout",
     "output_type": "stream",
     "text": [
      "Accuracy of logistic regression classifier on test set: 0.54\n"
     ]
    }
   ],
   "source": [
    "y_pred = logreg.predict(X_test)\n",
    "print('Accuracy of logistic regression classifier on test set: {:.2f}'.format(logreg.score(X_test, y_test)))"
   ]
  },
  {
   "cell_type": "markdown",
   "metadata": {},
   "source": [
    "# Confusion Matrix:\n",
    "    \n",
    "    a summary of prediction results on a classification problem.\n",
    "    \n",
    "    shows the ways in which your classification model\n",
    "    is confused when it makes predictions.\n",
    "\n",
    "    Expected down the side: Each row of the matrix corresponds to a predicted class.\n",
    "        \n",
    "    Predicted across the top: Each column of the matrix corresponds to an actual class.\n",
    "        \n",
    "    The counts of correct and incorrect classification are then filled into the table.\n",
    "    \n",
    "Accuracy: Overall, how often is the classifier correct?\n",
    "(TP+TN)/total\n",
    "\n",
    "Misclassification Rate: Overall, how often is it wrong?\n",
    "(FP+FN)/total\n",
    "equivalent to 1 minus Accuracy\n",
    "also known as \"Error Rate\"\n",
    "\n",
    "True Positive Rate: When it's actually yes, how often does it predict yes?\n",
    "TP/actual yes \n",
    "also known as \"Sensitivity\" or \"Recall\"\n",
    "\n",
    "False Positive Rate: When it's actually no, how often does it predict yes?\n",
    "FP/actual no\n",
    "\n",
    "Specificity: When it's actually no, how often does it predict no?\n",
    "TN/actual no \n",
    "equivalent to 1 minus False Positive Rate\n",
    "\n",
    "Precision: When it predicts yes, how often is it correct?\n",
    "TP/predicted yes \n",
    "\n",
    "Prevalence: How often does the yes condition actually occur in our sample?\n",
    "actual yes/total                     "
   ]
  },
  {
   "cell_type": "code",
   "execution_count": 212,
   "metadata": {},
   "outputs": [
    {
     "name": "stdout",
     "output_type": "stream",
     "text": [
      "[[111  62]\n",
      " [ 96  78]]\n"
     ]
    }
   ],
   "source": [
    "from sklearn.metrics import confusion_matrix\n",
    "confusion_matrix = confusion_matrix(y_test, y_pred)\n",
    "print(confusion_matrix)"
   ]
  },
  {
   "cell_type": "code",
   "execution_count": null,
   "metadata": {},
   "outputs": [],
   "source": [
    "The result means that we have 111+78 correct predictions and 96+62 incorrect predictions."
   ]
  },
  {
   "cell_type": "markdown",
   "metadata": {},
   "source": [
    "# Compute precision, recall, F-measure and support\n",
    "\n",
    "The precision is the ratio tp / (tp + fp) where tp is the number of true positives and fp the number of false positives. The precision is intuitively the ability of the classifier to not label a sample as positive if it is negative.\n",
    "\n",
    "The recall is the ratio tp / (tp + fn) where tp is the number of true positives and fn the number of false negatives. The recall is intuitively the ability of the classifier to find all the positive samples.\n",
    "\n",
    "The F-beta score can be interpreted as a weighted harmonic mean of the precision and recall, where an F-beta score reaches its best value at 1 and worst score at 0.\n",
    "\n",
    "The F-beta score weights the recall more than the precision by a factor of beta. beta = 1.0 means recall and precision are equally important.\n",
    "\n",
    "The support is the number of occurrences of each class in y_test."
   ]
  },
  {
   "cell_type": "code",
   "execution_count": 214,
   "metadata": {},
   "outputs": [
    {
     "name": "stdout",
     "output_type": "stream",
     "text": [
      "             precision    recall  f1-score   support\n",
      "\n",
      "          0       0.54      0.64      0.58       173\n",
      "          1       0.56      0.45      0.50       174\n",
      "\n",
      "avg / total       0.55      0.54      0.54       347\n",
      "\n"
     ]
    }
   ],
   "source": [
    "from sklearn.metrics import classification_report\n",
    "print(classification_report(y_test, y_pred))"
   ]
  },
  {
   "cell_type": "markdown",
   "metadata": {},
   "source": [
    "# Interpretation:\n",
    "Of the entire test set, 55% of times i felt guilty."
   ]
  },
  {
   "cell_type": "markdown",
   "metadata": {},
   "source": [
    "# The receiver operating characteristic (ROC) curve:\n",
    "    is another common tool used with binary classifiers. \n",
    "    \n",
    "    The dotted line represents the ROC curve of a purely random classifier; \n",
    "    \n",
    "    a good classifier stays as far away from that line as possible (toward the top-left corner)."
   ]
  },
  {
   "cell_type": "code",
   "execution_count": 216,
   "metadata": {},
   "outputs": [
    {
     "data": {
      "image/png": "[encoded data removed]",
      "text/plain": [
       "<matplotlib.figure.Figure at 0x1e547e40780>"
      ]
     },
     "metadata": {},
     "output_type": "display_data"
    }
   ],
   "source": [
    "from sklearn.metrics import roc_auc_score\n",
    "from sklearn.metrics import roc_curve\n",
    "logit_roc_auc = roc_auc_score(y_test, logreg.predict(X_test))\n",
    "fpr, tpr, thresholds = roc_curve(y_test, logreg.predict_proba(X_test)[:,1])\n",
    "plt.figure()\n",
    "plt.plot(fpr, tpr, label='Logistic Regression (area = %0.2f)' % logit_roc_auc)\n",
    "plt.plot([0, 1], [0, 1],'r--')\n",
    "plt.xlim([0.0, 1.0])\n",
    "plt.ylim([0.0, 1.05])\n",
    "\n",
    "plt.show()"
   ]
  },
  {
   "cell_type": "code",
   "execution_count": null,
   "metadata": {},
   "outputs": [],
   "source": []
  }
 ],
 "metadata": {
  "kernelspec": {
   "display_name": "Python 3",
   "language": "python",
   "name": "python3"
  },
  "language_info": {
   "codemirror_mode": {
    "name": "ipython",
    "version": 3
   },
   "file_extension": ".py",
   "mimetype": "text/x-python",
   "name": "python",
   "nbconvert_exporter": "python",
   "pygments_lexer": "ipython3",
   "version": "3.6.4"
  }
 },
 "nbformat": 4,
 "nbformat_minor": 2
}
